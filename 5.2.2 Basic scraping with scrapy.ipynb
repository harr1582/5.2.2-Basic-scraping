{
  "nbformat": 4,
  "nbformat_minor": 0,
  "metadata": {
    "colab": {
      "name": "5.2.2 Basic scraping with scrapy (1).ipynb",
      "version": "0.3.2",
      "provenance": []
    },
    "language_info": {
      "codemirror_mode": {
        "name": "ipython",
        "version": 3
      },
      "file_extension": ".py",
      "mimetype": "text/x-python",
      "name": "python",
      "nbconvert_exporter": "python",
      "pygments_lexer": "ipython3",
      "version": "3.7.1"
    },
    "kernelspec": {
      "display_name": "Python 3",
      "language": "python",
      "name": "python3"
    }
  },
  "cells": [
    {
      "cell_type": "markdown",
      "metadata": {
        "run_control": {
          "frozen": false,
          "read_only": false
        },
        "id": "PsbdwVKV9ZiE",
        "colab_type": "text"
      },
      "source": [
        "## Scrapy\n",
        "\n",
        "Unlike the other Python packages we have used so far, scrapy comes with its own API. While we haven't covered API's just yet, what that means practically is that scrapy makes it easy to write and debug spiders (the little programs that crawl/scrape the website).  You can also run scrapy in the command line or jupyter notebook.  For ease of illustration, the examples we use will be in the jupyter notebook.  If you want to pursue scraping further, we enourage you to use the [API](https://doc.scrapy.org/en/latest/topics/api.html). You can also see an example of a project that uses that API [here](https://doc.scrapy.org/en/latest/intro/examples.html)\n",
        "\n",
        "Here we will write a scraper to pull data from the [_Everyday Sexism Project_](https://everydaysexism.com/), which has been collecting stories about times people have experienced or observed sexism since 2012. User-provided entries are stored and displayed as simple text entries, with user-provided categories. There is no API or other apparent method to access the data aside from the webpage, and experiences of sexism are so subjective that it is difficult to imagine getting similar-quality information through a questionnaire or other easy-to-analyse data collection method. Yet as presented, it isn’t possible to see any overarching trends beyond the sheer quantity of entries.\n",
        "\n",
        "A data scientist with a specific interest in learning more about experiences of sexism might want to write a scraper for the _Everyday Sexism Project_. A good scraper will pull data from every page of the ESP website. We want to save the entry text, any category labels, date posted, and the name provided by the poster. Our scraper will scrape each page, then find the URL for the previous page and call itself again for that page.\n",
        "\n",
        "\n",
        "## Basic Scraper\n",
        "\n",
        "Let's start with a simple scraper that just saves the entire webpage as an HTML file.  Note that Scrapy is built on top of the [Twisted](http://twistedmatrix.com/trac/) [reactor](http://stackoverflow.com/questions/35111265/how-does-pythons-twisted-reactor-work) which is event-driven and cannot be restarted within a session. What this means for us is that after each time you run a Scrapy script example here, you'll need to restart the kernel before you run another Scrapy script. Just another reason to use scrapy in the command line...\n",
        "\n",
        "In a Scrapy-made scraper, you provide one or more starting URLs. The scraper then sends a request to the server for the information at that URL. The server provides a response, which is either the information requested or an error code. Scrapy then processes the response in accordance with the instructions you've given it."
      ]
    },
    {
      "cell_type": "code",
      "metadata": {
        "id": "LvH_ZjpG9ZiI",
        "colab_type": "code",
        "colab": {
          "base_uri": "https://localhost:8080/",
          "height": 1937
        },
        "outputId": "d7369335-3ce9-48b4-927b-e5bd43ffb565"
      },
      "source": [
        "# Importing in each cell because of the kernel restarts.\n",
        "!pip install scrapy\n",
        "\n",
        "import scrapy\n",
        "from scrapy.crawler import CrawlerProcess\n",
        "\n",
        "\n",
        "class ESSpider(scrapy.Spider):\n",
        "    # Naming the spider is important if you are running more than one spider of\n",
        "    # this class simultaneously.\n",
        "    name = \"ESS\"\n",
        "    \n",
        "    # URL(s) to start with.\n",
        "    start_urls = [\n",
        "        'http://www.everydaysexism.com',\n",
        "    ]\n",
        "\n",
        "    # What to do with the URL.  Here, we tell it to download all the code and save\n",
        "    # it to the mainpage.html file\n",
        "    def parse(self, response):\n",
        "        with open('mainpage.html', 'wb') as f:\n",
        "            f.write(response.body)\n",
        "\n",
        "\n",
        "# Instantiate our crawler.\n",
        "process = CrawlerProcess()\n",
        "\n",
        "# Start the crawler with our spider.\n",
        "process.crawl(ESSpider)\n",
        "process.start()\n"
      ],
      "execution_count": 2,
      "outputs": [
        {
          "output_type": "stream",
          "text": [
            "Collecting scrapy\n",
            "\u001b[?25l  Downloading https://files.pythonhosted.org/packages/3e/45/414e87ac8209d537c91575538c5307c20217a6943f555e0ee39f6db4bb0f/Scrapy-1.6.0-py2.py3-none-any.whl (231kB)\n",
            "\u001b[K     |████████████████████████████████| 235kB 2.8MB/s \n",
            "\u001b[?25hCollecting pyOpenSSL (from scrapy)\n",
            "\u001b[?25l  Downloading https://files.pythonhosted.org/packages/01/c8/ceb170d81bd3941cbeb9940fc6cc2ef2ca4288d0ca8929ea4db5905d904d/pyOpenSSL-19.0.0-py2.py3-none-any.whl (53kB)\n",
            "\u001b[K     |████████████████████████████████| 61kB 10.2MB/s \n",
            "\u001b[?25hCollecting cssselect>=0.9 (from scrapy)\n",
            "  Downloading https://files.pythonhosted.org/packages/7b/44/25b7283e50585f0b4156960691d951b05d061abf4a714078393e51929b30/cssselect-1.0.3-py2.py3-none-any.whl\n",
            "Collecting PyDispatcher>=2.0.5 (from scrapy)\n",
            "  Downloading https://files.pythonhosted.org/packages/cd/37/39aca520918ce1935bea9c356bcbb7ed7e52ad4e31bff9b943dfc8e7115b/PyDispatcher-2.0.5.tar.gz\n",
            "Collecting service-identity (from scrapy)\n",
            "  Downloading https://files.pythonhosted.org/packages/e9/7c/2195b890023e098f9618d43ebc337d83c8b38d414326685339eb024db2f6/service_identity-18.1.0-py2.py3-none-any.whl\n",
            "Collecting queuelib (from scrapy)\n",
            "  Downloading https://files.pythonhosted.org/packages/4c/85/ae64e9145f39dd6d14f8af3fa809a270ef3729f3b90b3c0cf5aa242ab0d4/queuelib-1.5.0-py2.py3-none-any.whl\n",
            "Collecting parsel>=1.5 (from scrapy)\n",
            "  Downloading https://files.pythonhosted.org/packages/96/69/d1d5dba5e4fecd41ffd71345863ed36a45975812c06ba77798fc15db6a64/parsel-1.5.1-py2.py3-none-any.whl\n",
            "Collecting w3lib>=1.17.0 (from scrapy)\n",
            "  Downloading https://files.pythonhosted.org/packages/81/43/9dcf92a77f5f0afe4f4df2407d7289eea01368a08b64bda00dd318ca62a6/w3lib-1.20.0-py2.py3-none-any.whl\n",
            "Collecting Twisted>=13.1.0 (from scrapy)\n",
            "\u001b[?25l  Downloading https://files.pythonhosted.org/packages/79/59/035de19362320e632301ed7bbde23e4c8cd6fc5e2f1cf8d354cdba857854/Twisted-19.2.1.tar.bz2 (3.1MB)\n",
            "\u001b[K     |████████████████████████████████| 3.1MB 45.2MB/s \n",
            "\u001b[?25hRequirement already satisfied: lxml in /usr/local/lib/python3.6/dist-packages (from scrapy) (4.2.6)\n",
            "Requirement already satisfied: six>=1.5.2 in /usr/local/lib/python3.6/dist-packages (from scrapy) (1.12.0)\n",
            "Collecting cryptography>=2.3 (from pyOpenSSL->scrapy)\n",
            "\u001b[?25l  Downloading https://files.pythonhosted.org/packages/97/18/c6557f63a6abde34707196fb2cad1c6dc0dbff25a200d5044922496668a4/cryptography-2.7-cp34-abi3-manylinux1_x86_64.whl (2.3MB)\n",
            "\u001b[K     |████████████████████████████████| 2.3MB 31.1MB/s \n",
            "\u001b[?25hRequirement already satisfied: pyasn1 in /usr/local/lib/python3.6/dist-packages (from service-identity->scrapy) (0.4.5)\n",
            "Requirement already satisfied: attrs>=16.0.0 in /usr/local/lib/python3.6/dist-packages (from service-identity->scrapy) (19.1.0)\n",
            "Requirement already satisfied: pyasn1-modules in /usr/local/lib/python3.6/dist-packages (from service-identity->scrapy) (0.2.5)\n",
            "Collecting zope.interface>=4.4.2 (from Twisted>=13.1.0->scrapy)\n",
            "\u001b[?25l  Downloading https://files.pythonhosted.org/packages/19/17/1d198a6aaa9aa4590862fe3d3a2ed7dd808050cab4eebe8a2f2f813c1376/zope.interface-4.6.0-cp36-cp36m-manylinux1_x86_64.whl (167kB)\n",
            "\u001b[K     |████████████████████████████████| 174kB 44.6MB/s \n",
            "\u001b[?25hCollecting constantly>=15.1 (from Twisted>=13.1.0->scrapy)\n",
            "  Downloading https://files.pythonhosted.org/packages/b9/65/48c1909d0c0aeae6c10213340ce682db01b48ea900a7d9fce7a7910ff318/constantly-15.1.0-py2.py3-none-any.whl\n",
            "Collecting incremental>=16.10.1 (from Twisted>=13.1.0->scrapy)\n",
            "  Downloading https://files.pythonhosted.org/packages/f5/1d/c98a587dc06e107115cf4a58b49de20b19222c83d75335a192052af4c4b7/incremental-17.5.0-py2.py3-none-any.whl\n",
            "Collecting Automat>=0.3.0 (from Twisted>=13.1.0->scrapy)\n",
            "  Downloading https://files.pythonhosted.org/packages/a3/86/14c16bb98a5a3542ed8fed5d74fb064a902de3bdd98d6584b34553353c45/Automat-0.7.0-py2.py3-none-any.whl\n",
            "Collecting hyperlink>=17.1.1 (from Twisted>=13.1.0->scrapy)\n",
            "  Downloading https://files.pythonhosted.org/packages/7f/91/e916ca10a2de1cb7101a9b24da546fb90ee14629e23160086cf3361c4fb8/hyperlink-19.0.0-py2.py3-none-any.whl\n",
            "Collecting PyHamcrest>=1.9.0 (from Twisted>=13.1.0->scrapy)\n",
            "\u001b[?25l  Downloading https://files.pythonhosted.org/packages/9a/d5/d37fd731b7d0e91afcc84577edeccf4638b4f9b82f5ffe2f8b62e2ddc609/PyHamcrest-1.9.0-py2.py3-none-any.whl (52kB)\n",
            "\u001b[K     |████████████████████████████████| 61kB 9.3MB/s \n",
            "\u001b[?25hCollecting asn1crypto>=0.21.0 (from cryptography>=2.3->pyOpenSSL->scrapy)\n",
            "\u001b[?25l  Downloading https://files.pythonhosted.org/packages/ea/cd/35485615f45f30a510576f1a56d1e0a7ad7bd8ab5ed7cdc600ef7cd06222/asn1crypto-0.24.0-py2.py3-none-any.whl (101kB)\n",
            "\u001b[K     |████████████████████████████████| 102kB 28.5MB/s \n",
            "\u001b[?25hRequirement already satisfied: cffi!=1.11.3,>=1.8 in /usr/local/lib/python3.6/dist-packages (from cryptography>=2.3->pyOpenSSL->scrapy) (1.12.3)\n",
            "Requirement already satisfied: setuptools in /usr/local/lib/python3.6/dist-packages (from zope.interface>=4.4.2->Twisted>=13.1.0->scrapy) (41.0.1)\n",
            "Requirement already satisfied: idna>=2.5 in /usr/local/lib/python3.6/dist-packages (from hyperlink>=17.1.1->Twisted>=13.1.0->scrapy) (2.8)\n",
            "Requirement already satisfied: pycparser in /usr/local/lib/python3.6/dist-packages (from cffi!=1.11.3,>=1.8->cryptography>=2.3->pyOpenSSL->scrapy) (2.19)\n",
            "Building wheels for collected packages: PyDispatcher, Twisted\n",
            "  Building wheel for PyDispatcher (setup.py) ... \u001b[?25l\u001b[?25hdone\n",
            "  Stored in directory: /root/.cache/pip/wheels/88/99/96/cfef6665f9cb1522ee6757ae5955feedf2fe25f1737f91fa7f\n",
            "  Building wheel for Twisted (setup.py) ... \u001b[?25l\u001b[?25hdone\n",
            "  Stored in directory: /root/.cache/pip/wheels/19/4c/a1/0bef832134076abab3461815e92cf41f2518dffe1a5337203b\n",
            "Successfully built PyDispatcher Twisted\n",
            "Installing collected packages: asn1crypto, cryptography, pyOpenSSL, cssselect, PyDispatcher, service-identity, queuelib, w3lib, parsel, zope.interface, constantly, incremental, Automat, hyperlink, PyHamcrest, Twisted, scrapy\n",
            "Successfully installed Automat-0.7.0 PyDispatcher-2.0.5 PyHamcrest-1.9.0 Twisted-19.2.1 asn1crypto-0.24.0 constantly-15.1.0 cryptography-2.7 cssselect-1.0.3 hyperlink-19.0.0 incremental-17.5.0 parsel-1.5.1 pyOpenSSL-19.0.0 queuelib-1.5.0 scrapy-1.6.0 service-identity-18.1.0 w3lib-1.20.0 zope.interface-4.6.0\n"
          ],
          "name": "stdout"
        },
        {
          "output_type": "stream",
          "text": [
            "2019-06-18 19:06:10 [scrapy.utils.log] INFO: Scrapy 1.6.0 started (bot: scrapybot)\n",
            "2019-06-18 19:06:10 [scrapy.utils.log] INFO: Versions: lxml 4.2.6.0, libxml2 2.9.8, cssselect 1.0.3, parsel 1.5.1, w3lib 1.20.0, Twisted 19.2.1, Python 3.6.7 (default, Oct 22 2018, 11:32:17) - [GCC 8.2.0], pyOpenSSL 19.0.0 (OpenSSL 1.1.1c  28 May 2019), cryptography 2.7, Platform Linux-4.14.79+-x86_64-with-Ubuntu-18.04-bionic\n",
            "2019-06-18 19:06:10 [scrapy.crawler] INFO: Overridden settings: {}\n",
            "2019-06-18 19:06:10 [scrapy.extensions.telnet] INFO: Telnet Password: e539ce9b7d121760\n",
            "2019-06-18 19:06:10 [scrapy.middleware] INFO: Enabled extensions:\n",
            "['scrapy.extensions.corestats.CoreStats',\n",
            " 'scrapy.extensions.telnet.TelnetConsole',\n",
            " 'scrapy.extensions.memusage.MemoryUsage',\n",
            " 'scrapy.extensions.logstats.LogStats']\n",
            "2019-06-18 19:06:10 [scrapy.middleware] INFO: Enabled downloader middlewares:\n",
            "['scrapy.downloadermiddlewares.httpauth.HttpAuthMiddleware',\n",
            " 'scrapy.downloadermiddlewares.downloadtimeout.DownloadTimeoutMiddleware',\n",
            " 'scrapy.downloadermiddlewares.defaultheaders.DefaultHeadersMiddleware',\n",
            " 'scrapy.downloadermiddlewares.useragent.UserAgentMiddleware',\n",
            " 'scrapy.downloadermiddlewares.retry.RetryMiddleware',\n",
            " 'scrapy.downloadermiddlewares.redirect.MetaRefreshMiddleware',\n",
            " 'scrapy.downloadermiddlewares.httpcompression.HttpCompressionMiddleware',\n",
            " 'scrapy.downloadermiddlewares.redirect.RedirectMiddleware',\n",
            " 'scrapy.downloadermiddlewares.cookies.CookiesMiddleware',\n",
            " 'scrapy.downloadermiddlewares.httpproxy.HttpProxyMiddleware',\n",
            " 'scrapy.downloadermiddlewares.stats.DownloaderStats']\n",
            "2019-06-18 19:06:10 [scrapy.middleware] INFO: Enabled spider middlewares:\n",
            "['scrapy.spidermiddlewares.httperror.HttpErrorMiddleware',\n",
            " 'scrapy.spidermiddlewares.offsite.OffsiteMiddleware',\n",
            " 'scrapy.spidermiddlewares.referer.RefererMiddleware',\n",
            " 'scrapy.spidermiddlewares.urllength.UrlLengthMiddleware',\n",
            " 'scrapy.spidermiddlewares.depth.DepthMiddleware']\n",
            "2019-06-18 19:06:10 [scrapy.middleware] INFO: Enabled item pipelines:\n",
            "[]\n",
            "2019-06-18 19:06:10 [scrapy.core.engine] INFO: Spider opened\n",
            "2019-06-18 19:06:10 [scrapy.extensions.logstats] INFO: Crawled 0 pages (at 0 pages/min), scraped 0 items (at 0 items/min)\n",
            "2019-06-18 19:06:10 [scrapy.extensions.telnet] INFO: Telnet console listening on 127.0.0.1:6023\n",
            "2019-06-18 19:06:11 [scrapy.downloadermiddlewares.redirect] DEBUG: Redirecting (301) to <GET http://everydaysexism.com/> from <GET http://www.everydaysexism.com>\n",
            "2019-06-18 19:06:11 [scrapy.core.engine] DEBUG: Crawled (200) <GET http://everydaysexism.com/> (referer: None)\n",
            "2019-06-18 19:06:11 [scrapy.core.engine] INFO: Closing spider (finished)\n",
            "2019-06-18 19:06:11 [scrapy.statscollectors] INFO: Dumping Scrapy stats:\n",
            "{'downloader/request_bytes': 438,\n",
            " 'downloader/request_count': 2,\n",
            " 'downloader/request_method_count/GET': 2,\n",
            " 'downloader/response_bytes': 11599,\n",
            " 'downloader/response_count': 2,\n",
            " 'downloader/response_status_count/200': 1,\n",
            " 'downloader/response_status_count/301': 1,\n",
            " 'finish_reason': 'finished',\n",
            " 'finish_time': datetime.datetime(2019, 6, 18, 19, 6, 11, 206885),\n",
            " 'log_count/DEBUG': 2,\n",
            " 'log_count/INFO': 9,\n",
            " 'memusage/max': 173027328,\n",
            " 'memusage/startup': 173027328,\n",
            " 'response_received_count': 1,\n",
            " 'scheduler/dequeued': 2,\n",
            " 'scheduler/dequeued/memory': 2,\n",
            " 'scheduler/enqueued': 2,\n",
            " 'scheduler/enqueued/memory': 2,\n",
            " 'start_time': datetime.datetime(2019, 6, 18, 19, 6, 10, 928360)}\n",
            "2019-06-18 19:06:11 [scrapy.core.engine] INFO: Spider closed (finished)\n"
          ],
          "name": "stderr"
        }
      ]
    },
    {
      "cell_type": "markdown",
      "metadata": {
        "id": "OGq0trei9ZiV",
        "colab_type": "text"
      },
      "source": [
        "If that worked, you should now have a file called 'mainpage.html' saved to your machine that contains all the code from www.everydaysexism.com.  Talk to your mentor if you are having problems with this step, and make sure it is working before you move forward.\n",
        "\n",
        "By default Scrapy gives detailed logging, which you should see above in red.\n",
        "\n",
        "Oh, and remember, you'll need to restart your kernel if you want to rerun a Scrapy script. If you get an error, the first thing to try is restarting your kernel."
      ]
    },
    {
      "cell_type": "markdown",
      "metadata": {
        "id": "_waA_uAk9ZiW",
        "colab_type": "text"
      },
      "source": [
        "## Parsing HTML\n",
        "\n",
        "Now that we know the spider can pull the code, we need to _do_ something with it.\n",
        "\n",
        "Scraping the web means learning a bit about web technologies: HTML, XML, and CSS. This code contains the content and display information for every web page. You'll need to get familiar with the structure of your document and the code that identifies the piece(s) of the web page you want. To see the code for an entry on www.everydaysexism.com, open the page in the web browser of your choice and hover over the brownish background rectangle that defines an entry.  Left-click, then select \"Inspect Element\" or some variant- [the terminology will vary depending on your browser](https://victorfont.com/how-to-use-your-browsers-inspect-tool/). In Chrome, the command is \"Inspect\". This will display your browser's developer tools alongside or below the rendered web page. The \"Elements\" tab of your developer tools will show the code for the page. The particular element you left-clicked on will be highlighted. As you move around in the code, different parts of the webpage will be highlighted, letting you know what that piece of code refers to.\n",
        "\n",
        "![Inspecting web page elements](assets/developer_tools.gif)\n",
        "\n",
        "If you've done it right, your click should have highlighted code starting with `<article id=\"post-`.  Each submission on the page is contained within an `<article>` element. Nested within each article is a `<header>` element, a `<section>` element (with the class `\"entry-content\"`), and a `<footer>` element.  Look and click around a bit and see if you can find the information we want to extract from each submission: (1) The author, (2) the date it was posted, (3) the text content, and (4) any tags associated with it. We're lucky that every submission has a standardized format, so we can use the code for this one submission as a template to build our scraper's parsing instructions.\n",
        "\n",
        "So how do we get the information out of the HTML code and into our parser?  Often, people just learning to scrape think \"a ha! I will use regular expressions to pick out what I want!\"  This [is not a good idea](https://blog.codinghorror.com/parsing-html-the-cthulhu-way/) in most cases. HTML is a context-based language – the content described by any given HTML tag depends on where that tag is positioned relative to all other tags, and where that tag is opened and closed. Regex, on the other hand, ignores context. It goes along until it finds the conditions you've described and grabs the material there, ignoring everything else.  Combining HTML and regex creates [fragile code that breaks easily](http://stackoverflow.com/questions/6751105/why-its-not-possible-to-use-regex-to-parse-html-xml-a-formal-explanation-in-la).\n",
        "\n",
        "Fortunately, there are context-aware parsers for HTML and XML that allow you to find what you need within the code without a headache.  Scrapy can work with any parser you provide, and natively incorporates two \"selectors\": [CSS-based and Xpath](https://doc.scrapy.org/en/latest/topics/selectors.html). We'll be using [Xpath](https://www.w3schools.com/xml/xpath_intro.asp) here: It treats nested code like computer file paths, with each level referred to as a 'node' (eg. C:\\\\User\\Desktop\\Stuff for files, \\\\body\\header\\p for code).\n",
        "\n",
        "The Xpath expression to find the title of a submission in our page is: `//article/header/h2/a/@title`.  In English, this means:  \n",
        "\n",
        " * `//article`: _Locate every_ `article` _node in the page._\n",
        " * `/header`: _Find the_ `header` _node nested directly underneath the_ `article` _node._  \n",
        " * `/h2`: _Find the_ `h2` _node nested directly underneath the_ `header` _node_.  \n",
        " * `/a`: _Find the_ `a` _node nested directly underneath the_ `h2` _node._  \n",
        " * `/@title`: _Find the_ `title` _attribute within the_ `a` _node._  \n",
        "\n",
        "The best way to learn Xpath is to try it out.  You can easily experiment using [this XPath tester](http://www.freeformatter.com/xpath-tester.html)."
      ]
    },
    {
      "cell_type": "markdown",
      "metadata": {
        "id": "MAn5WR8l9ZiY",
        "colab_type": "text"
      },
      "source": [
        "## Using JSON to store output\n",
        "\n",
        "As we saw in the previous example, Scrapy writes information to a file.  But raw HTML isn't very useful. Here, we will use the [JSON file format](https://blog.datafiniti.co/4-reasons-you-should-use-json-instead-of-csv-2cac362f1943). JSON stores data in a format that looks a lot like Python dictionaries. This is nice for scraping where you are likely to get non-flat data (also called semi-structured data), where rows can have different numbers of columns. JSON files are also easy to read back into Python.\n",
        "\n",
        "Because we're running Scrapy in a script, we need to call an instance of the CrawlerProcess class to actually run our scrapers. (In the API, this is taken care of automatically.) We can pass arguments into the class call that will give instructions to the scrapers, such as where to store the data (in this case, a JSON file called `firstpage.json`).\n",
        "\n",
        "Remember, scrapy can't restart itself, so you have to restart the kernel before running this code."
      ]
    },
    {
      "cell_type": "code",
      "metadata": {
        "run_control": {
          "frozen": false,
          "read_only": false
        },
        "scrolled": true,
        "id": "bmBA-7Or9Zia",
        "colab_type": "code",
        "colab": {},
        "outputId": "db6309d7-cd32-4374-cd93-a12df8618726"
      },
      "source": [
        "# Importing in each cell because of the kernel restarts.\n",
        "import scrapy\n",
        "from scrapy.crawler import CrawlerProcess\n",
        "\n",
        "\n",
        "class ESSpider(scrapy.Spider):\n",
        "    # Naming the spider is important if you are running more than one spider of\n",
        "    # this class simultaneously.\n",
        "    name = \"ESS\"\n",
        "    \n",
        "    # URL(s) to start with.\n",
        "    start_urls = [\n",
        "        'http://www.everydaysexism.com',\n",
        "    ]\n",
        "\n",
        "    # Use XPath to parse the response we get.\n",
        "    def parse(self, response):\n",
        "        \n",
        "        # Iterate over every <article> element on the page.\n",
        "        for article in response.xpath('//article'):\n",
        "            \n",
        "            # Yield a dictionary with the values we want.\n",
        "            yield {\n",
        "                # This is the code to choose what we want to extract\n",
        "                # You can modify this with other Xpath expressions to extract other information from the site\n",
        "                'name': article.xpath('header/h2/a/@title').extract_first(),\n",
        "                'date': article.xpath('header/section/span[@class=\"entry-date\"]/text()').extract_first(),\n",
        "                'text': article.xpath('section[@class=\"entry-content\"]/p/text()').extract(),\n",
        "                'tags': article.xpath('*/span[@class=\"tag-links\"]/a/text()').extract()\n",
        "            }\n",
        "\n",
        "# Tell the script how to run the crawler by passing in settings.\n",
        "process = CrawlerProcess({\n",
        "    'FEED_FORMAT': 'json',         # Store data in JSON format.\n",
        "    'FEED_URI': 'firstpage.json',  # Name our storage file.\n",
        "    'LOG_ENABLED': False           # Turn off logging for now.\n",
        "})\n",
        "\n",
        "# Start the crawler with our spider.\n",
        "process.crawl(ESSpider)\n",
        "process.start()\n",
        "print('Success!')\n"
      ],
      "execution_count": 0,
      "outputs": [
        {
          "output_type": "stream",
          "text": [
            "Success!\n"
          ],
          "name": "stdout"
        }
      ]
    },
    {
      "cell_type": "markdown",
      "metadata": {
        "id": "p8J58tGe9Zii",
        "colab_type": "text"
      },
      "source": [
        "# Checking the output\n",
        "\n",
        "Did it work? We turned off logging in the example above, so the best way to check is to look at our output JSON file: `firstpage.json`.\n",
        "\n",
        "**Note**: if you run the code more than once in a row, Scrapy will try to append the new scraped information to the end of the old JSON file. This will cause the JSON file to bug out because it will have an \"end of file\" notation in the middle of the file, so make sure to delete your JSON file before you re-run this or you'll get a \"trailing file\" error.\n",
        "\n",
        "We can take a look at the raw json file (which is pretty human-readable) in your favorite text editor, or load it into Python as a data frame:"
      ]
    },
    {
      "cell_type": "code",
      "metadata": {
        "id": "U53vFzmZ9Zik",
        "colab_type": "code",
        "colab": {},
        "outputId": "d32a5d73-2b66-48e0-e117-6e791aa5f8d1"
      },
      "source": [
        "import pandas as pd\n",
        "\n",
        "firstpage = pd.read_json('firstpage.json', orient='records')\n",
        "print(firstpage.shape)\n",
        "print(firstpage.head())"
      ],
      "execution_count": 0,
      "outputs": [
        {
          "output_type": "stream",
          "text": [
            "(10, 4)\n",
            "        date      name                       tags  \\\n",
            "0 2017-08-23     Lucie                   [School]   \n",
            "1 2017-08-23     Emily  [Public space, Workplace]   \n",
            "2 2017-08-23  Bollocks                    [Media]   \n",
            "3 2017-08-23  Samantha             [Public space]   \n",
            "4 2017-08-23      Katy                         []   \n",
            "\n",
            "                                                text  \n",
            "0  [We didn’t have enough chairs in the classroom...  \n",
            "1  [When I was 17, I worked in a clothing store t...  \n",
            "2  [“Vaginas need sex or they’ll waste away” , Wi...  \n",
            "3  [I was out at a bar with my boyfriend, my best...  \n",
            "4  [I’m 17 and earlier this summer I was walking ...  \n"
          ],
          "name": "stdout"
        }
      ]
    },
    {
      "cell_type": "markdown",
      "metadata": {
        "id": "K5h4o-x_9Zit",
        "colab_type": "text"
      },
      "source": [
        "Success!  Ten rows (representing ten entries) each with date, name, tags, and text.  \n",
        "\n",
        "\n",
        "## Recursion\n",
        "\n",
        "Now that we have a scraper that can pull the information we want off of a page and store it in a file, we want to run that scraper over _all_ the pages of the website. We do this using recursion – the Scrapy spider will run over a page, gather information, and then detect a link to the next page and _call itself_ on the new page.  Then the new instance of the spider will do the same thing. This will repeat until it arrives at a page with no link to a next page, or when it reaches a stopping condition we define.\n",
        "\n",
        "Since _Everyday Sexism_ has a paginated structure (every page links to the page before it), we can use recursion to get all the entries on the site. If you wanted to scrape a website with a non-linear structure, you'd still use the recursive setup, but with different restrictions on what links the scraper should follow. Scrapy is efficient and will only scrape each page once, even if it travels to them multiple times.\n",
        "\n",
        "You may notice we've added some additional arguments to the ´CrawlerProcess()´ command- these have to do with scraping etiquette and will be introduced in the next assignment.\n",
        "\n",
        "Again, you'll want to restart the kernel."
      ]
    },
    {
      "cell_type": "code",
      "metadata": {
        "scrolled": false,
        "id": "UzpplVHC9Ziv",
        "colab_type": "code",
        "colab": {}
      },
      "source": [
        "# Importing in each cell because of the kernel restarts.\n",
        "import scrapy\n",
        "import re\n",
        "from scrapy.crawler import CrawlerProcess\n",
        "\n",
        "class ESSpider(scrapy.Spider):\n",
        "    # Naming the spider is important if you are running more than one spider of\n",
        "    # this class simultaneously.\n",
        "    name = \"ESS\"\n",
        "    \n",
        "    # URL(s) to start with.\n",
        "    start_urls = [\n",
        "        'http://www.everydaysexism.com',\n",
        "    ]\n",
        "\n",
        "    # Use XPath to parse the response we get.\n",
        "    def parse(self, response):\n",
        "        \n",
        "        # Iterate over every <article> element on the page.\n",
        "        for article in response.xpath('//article'):\n",
        "            \n",
        "            # Yield a dictionary with the values we want.\n",
        "            yield {\n",
        "                'name': article.xpath('header/h2/a/@title').extract_first(),\n",
        "                'date': article.xpath('header/section/span[@class=\"entry-date\"]/text()').extract_first(),\n",
        "                'text': article.xpath('section[@class=\"entry-content\"]/p/text()').extract(),\n",
        "                'tags': article.xpath('*/span[@class=\"tag-links\"]/a/text()').extract()\n",
        "            }\n",
        "        # Get the URL of the previous page.\n",
        "        next_page = response.xpath('//div[@class=\"nav-previous\"]/a/@href').extract_first()\n",
        "        \n",
        "        # There are a LOT of pages here.  For our example, we'll just scrape the first 9.\n",
        "        # This finds the page number. The next segment of code prevents us from going beyond page 9.\n",
        "        pagenum = int(re.findall(r'\\d+',next_page)[0])\n",
        "        \n",
        "        # Recursively call the spider to run on the next page, if it exists.\n",
        "        if next_page is not None and pagenum < 10:\n",
        "            next_page = response.urljoin(next_page)\n",
        "            # Request the next page and recursively parse it the same way we did above\n",
        "            yield scrapy.Request(next_page, callback=self.parse)\n",
        "\n",
        "# Tell the script how to run the crawler by passing in settings.\n",
        "# The new settings have to do with scraping etiquette.          \n",
        "process = CrawlerProcess({\n",
        "    'FEED_FORMAT': 'json',         # Store data in JSON format.\n",
        "    'FEED_URI': 'data.json',       # Name our storage file.\n",
        "    'LOG_ENABLED': False,          # Turn off logging for now.\n",
        "    'ROBOTSTXT_OBEY': True,\n",
        "    'USER_AGENT': 'ThinkfulDataScienceBootcampCrawler (thinkful.com)',\n",
        "    'AUTOTHROTTLE_ENABLED': True,\n",
        "    'HTTPCACHE_ENABLED': True\n",
        "})\n",
        "\n",
        "# Start the crawler with our spider.\n",
        "process.crawl(ESSpider)\n",
        "process.start()\n",
        "print('Success!')"
      ],
      "execution_count": 0,
      "outputs": []
    },
    {
      "cell_type": "code",
      "metadata": {
        "run_control": {
          "frozen": false,
          "read_only": false
        },
        "id": "tmSQN2dK9Zi0",
        "colab_type": "code",
        "colab": {}
      },
      "source": [
        "import pandas as pd\n",
        "\n",
        "# Checking whether we got data from all 9 pages\n",
        "ESSdf=pd.read_json('data.json', orient='records')\n",
        "print(ESSdf.shape)\n",
        "print(ESSdf.head())"
      ],
      "execution_count": 0,
      "outputs": []
    },
    {
      "cell_type": "markdown",
      "metadata": {
        "collapsed": true,
        "run_control": {
          "frozen": false,
          "read_only": false
        },
        "id": "083hC-TS9Zi6",
        "colab_type": "text"
      },
      "source": [
        "# Conclusion\n",
        "\n",
        "Nine pages at 10 entries a row gives us 90 rows - looks like we were successful in our scraping!  This is just a start. Scrapy is very flexible and will let you run multiple spiders with all sorts of different abilities.  In the next assignment, we'll talk about some of the options you can use to fine-tune scrapy and how to use your newfound scraping power in a responsible way."
      ]
    }
  ]
}