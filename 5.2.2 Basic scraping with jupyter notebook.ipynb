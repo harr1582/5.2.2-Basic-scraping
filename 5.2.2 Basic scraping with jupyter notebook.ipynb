{
 "cells": [
  {
   "cell_type": "markdown",
   "metadata": {
    "colab_type": "text",
    "id": "PsbdwVKV9ZiE",
    "run_control": {
     "frozen": false,
     "read_only": false
    }
   },
   "source": [
    "## Scrapy\n",
    "\n",
    "Unlike the other Python packages we have used so far, scrapy comes with its own API. While we haven't covered API's just yet, what that means practically is that scrapy makes it easy to write and debug spiders (the little programs that crawl/scrape the website).  You can also run scrapy in the command line or jupyter notebook.  For ease of illustration, the examples we use will be in the jupyter notebook.  If you want to pursue scraping further, we enourage you to use the [API](https://doc.scrapy.org/en/latest/topics/api.html). You can also see an example of a project that uses that API [here](https://doc.scrapy.org/en/latest/intro/examples.html)\n",
    "\n",
    "Here we will write a scraper to pull data from the [_Everyday Sexism Project_](https://everydaysexism.com/), which has been collecting stories about times people have experienced or observed sexism since 2012. User-provided entries are stored and displayed as simple text entries, with user-provided categories. There is no API or other apparent method to access the data aside from the webpage, and experiences of sexism are so subjective that it is difficult to imagine getting similar-quality information through a questionnaire or other easy-to-analyse data collection method. Yet as presented, it isn’t possible to see any overarching trends beyond the sheer quantity of entries.\n",
    "\n",
    "A data scientist with a specific interest in learning more about experiences of sexism might want to write a scraper for the _Everyday Sexism Project_. A good scraper will pull data from every page of the ESP website. We want to save the entry text, any category labels, date posted, and the name provided by the poster. Our scraper will scrape each page, then find the URL for the previous page and call itself again for that page.\n",
    "\n",
    "\n",
    "## Basic Scraper\n",
    "\n",
    "Let's start with a simple scraper that just saves the entire webpage as an HTML file.  Note that Scrapy is built on top of the [Twisted](http://twistedmatrix.com/trac/) [reactor](http://stackoverflow.com/questions/35111265/how-does-pythons-twisted-reactor-work) which is event-driven and cannot be restarted within a session. What this means for us is that after each time you run a Scrapy script example here, you'll need to restart the kernel before you run another Scrapy script. Just another reason to use scrapy in the command line...\n",
    "\n",
    "In a Scrapy-made scraper, you provide one or more starting URLs. The scraper then sends a request to the server for the information at that URL. The server provides a response, which is either the information requested or an error code. Scrapy then processes the response in accordance with the instructions you've given it."
   ]
  },
  {
   "cell_type": "code",
   "execution_count": 1,
   "metadata": {
    "colab": {
     "base_uri": "https://localhost:8080/",
     "height": 33
    },
    "colab_type": "code",
    "id": "zewVPyEbC4bc",
    "outputId": "0a239f22-e2b0-45d7-f4ed-06d9e8846806"
   },
   "outputs": [
    {
     "data": {
      "text/plain": [
       "'C:\\\\Users\\\\harr1'"
      ]
     },
     "execution_count": 1,
     "metadata": {},
     "output_type": "execute_result"
    }
   ],
   "source": [
    "import os\n",
    "os.getcwd()"
   ]
  },
  {
   "cell_type": "code",
   "execution_count": 1,
   "metadata": {
    "colab": {
     "base_uri": "https://localhost:8080/",
     "height": 1322
    },
    "colab_type": "code",
    "id": "LvH_ZjpG9ZiI",
    "outputId": "1aaec2d2-af48-4ac6-abea-4c66539448b5"
   },
   "outputs": [
    {
     "ename": "ImportError",
     "evalue": "DLL load failed: The specified procedure could not be found.",
     "output_type": "error",
     "traceback": [
      "\u001b[1;31m---------------------------------------------------------------------------\u001b[0m",
      "\u001b[1;31mImportError\u001b[0m                               Traceback (most recent call last)",
      "\u001b[1;32m<ipython-input-1-9d6406b1a011>\u001b[0m in \u001b[0;36m<module>\u001b[1;34m\u001b[0m\n\u001b[0;32m      1\u001b[0m \u001b[1;31m# Importing in each cell because of the kernel restarts.\u001b[0m\u001b[1;33m\u001b[0m\u001b[1;33m\u001b[0m\u001b[1;33m\u001b[0m\u001b[0m\n\u001b[0;32m      2\u001b[0m \u001b[1;33m\u001b[0m\u001b[0m\n\u001b[1;32m----> 3\u001b[1;33m \u001b[1;32mimport\u001b[0m \u001b[0mscrapy\u001b[0m\u001b[1;33m\u001b[0m\u001b[1;33m\u001b[0m\u001b[0m\n\u001b[0m\u001b[0;32m      4\u001b[0m \u001b[1;32mfrom\u001b[0m \u001b[0mscrapy\u001b[0m\u001b[1;33m.\u001b[0m\u001b[0mcrawler\u001b[0m \u001b[1;32mimport\u001b[0m \u001b[0mCrawlerProcess\u001b[0m\u001b[1;33m\u001b[0m\u001b[1;33m\u001b[0m\u001b[0m\n\u001b[0;32m      5\u001b[0m \u001b[1;33m\u001b[0m\u001b[0m\n",
      "\u001b[1;32m~\\Anaconda3\\lib\\site-packages\\scrapy\\__init__.py\u001b[0m in \u001b[0;36m<module>\u001b[1;34m\u001b[0m\n\u001b[0;32m     32\u001b[0m \u001b[1;33m\u001b[0m\u001b[0m\n\u001b[0;32m     33\u001b[0m \u001b[1;31m# Declare top-level shortcuts\u001b[0m\u001b[1;33m\u001b[0m\u001b[1;33m\u001b[0m\u001b[1;33m\u001b[0m\u001b[0m\n\u001b[1;32m---> 34\u001b[1;33m \u001b[1;32mfrom\u001b[0m \u001b[0mscrapy\u001b[0m\u001b[1;33m.\u001b[0m\u001b[0mspiders\u001b[0m \u001b[1;32mimport\u001b[0m \u001b[0mSpider\u001b[0m\u001b[1;33m\u001b[0m\u001b[1;33m\u001b[0m\u001b[0m\n\u001b[0m\u001b[0;32m     35\u001b[0m \u001b[1;32mfrom\u001b[0m \u001b[0mscrapy\u001b[0m\u001b[1;33m.\u001b[0m\u001b[0mhttp\u001b[0m \u001b[1;32mimport\u001b[0m \u001b[0mRequest\u001b[0m\u001b[1;33m,\u001b[0m \u001b[0mFormRequest\u001b[0m\u001b[1;33m\u001b[0m\u001b[1;33m\u001b[0m\u001b[0m\n\u001b[0;32m     36\u001b[0m \u001b[1;32mfrom\u001b[0m \u001b[0mscrapy\u001b[0m\u001b[1;33m.\u001b[0m\u001b[0mselector\u001b[0m \u001b[1;32mimport\u001b[0m \u001b[0mSelector\u001b[0m\u001b[1;33m\u001b[0m\u001b[1;33m\u001b[0m\u001b[0m\n",
      "\u001b[1;32m~\\Anaconda3\\lib\\site-packages\\scrapy\\spiders\\__init__.py\u001b[0m in \u001b[0;36m<module>\u001b[1;34m\u001b[0m\n\u001b[0;32m      8\u001b[0m \u001b[1;33m\u001b[0m\u001b[0m\n\u001b[0;32m      9\u001b[0m \u001b[1;32mfrom\u001b[0m \u001b[0mscrapy\u001b[0m \u001b[1;32mimport\u001b[0m \u001b[0msignals\u001b[0m\u001b[1;33m\u001b[0m\u001b[1;33m\u001b[0m\u001b[0m\n\u001b[1;32m---> 10\u001b[1;33m \u001b[1;32mfrom\u001b[0m \u001b[0mscrapy\u001b[0m\u001b[1;33m.\u001b[0m\u001b[0mhttp\u001b[0m \u001b[1;32mimport\u001b[0m \u001b[0mRequest\u001b[0m\u001b[1;33m\u001b[0m\u001b[1;33m\u001b[0m\u001b[0m\n\u001b[0m\u001b[0;32m     11\u001b[0m \u001b[1;32mfrom\u001b[0m \u001b[0mscrapy\u001b[0m\u001b[1;33m.\u001b[0m\u001b[0mutils\u001b[0m\u001b[1;33m.\u001b[0m\u001b[0mtrackref\u001b[0m \u001b[1;32mimport\u001b[0m \u001b[0mobject_ref\u001b[0m\u001b[1;33m\u001b[0m\u001b[1;33m\u001b[0m\u001b[0m\n\u001b[0;32m     12\u001b[0m \u001b[1;32mfrom\u001b[0m \u001b[0mscrapy\u001b[0m\u001b[1;33m.\u001b[0m\u001b[0mutils\u001b[0m\u001b[1;33m.\u001b[0m\u001b[0murl\u001b[0m \u001b[1;32mimport\u001b[0m \u001b[0murl_is_from_spider\u001b[0m\u001b[1;33m\u001b[0m\u001b[1;33m\u001b[0m\u001b[0m\n",
      "\u001b[1;32m~\\Anaconda3\\lib\\site-packages\\scrapy\\http\\__init__.py\u001b[0m in \u001b[0;36m<module>\u001b[1;34m\u001b[0m\n\u001b[0;32m      9\u001b[0m \u001b[1;33m\u001b[0m\u001b[0m\n\u001b[0;32m     10\u001b[0m \u001b[1;32mfrom\u001b[0m \u001b[0mscrapy\u001b[0m\u001b[1;33m.\u001b[0m\u001b[0mhttp\u001b[0m\u001b[1;33m.\u001b[0m\u001b[0mrequest\u001b[0m \u001b[1;32mimport\u001b[0m \u001b[0mRequest\u001b[0m\u001b[1;33m\u001b[0m\u001b[1;33m\u001b[0m\u001b[0m\n\u001b[1;32m---> 11\u001b[1;33m \u001b[1;32mfrom\u001b[0m \u001b[0mscrapy\u001b[0m\u001b[1;33m.\u001b[0m\u001b[0mhttp\u001b[0m\u001b[1;33m.\u001b[0m\u001b[0mrequest\u001b[0m\u001b[1;33m.\u001b[0m\u001b[0mform\u001b[0m \u001b[1;32mimport\u001b[0m \u001b[0mFormRequest\u001b[0m\u001b[1;33m\u001b[0m\u001b[1;33m\u001b[0m\u001b[0m\n\u001b[0m\u001b[0;32m     12\u001b[0m \u001b[1;32mfrom\u001b[0m \u001b[0mscrapy\u001b[0m\u001b[1;33m.\u001b[0m\u001b[0mhttp\u001b[0m\u001b[1;33m.\u001b[0m\u001b[0mrequest\u001b[0m\u001b[1;33m.\u001b[0m\u001b[0mrpc\u001b[0m \u001b[1;32mimport\u001b[0m \u001b[0mXmlRpcRequest\u001b[0m\u001b[1;33m\u001b[0m\u001b[1;33m\u001b[0m\u001b[0m\n\u001b[0;32m     13\u001b[0m \u001b[1;33m\u001b[0m\u001b[0m\n",
      "\u001b[1;32m~\\Anaconda3\\lib\\site-packages\\scrapy\\http\\request\\form.py\u001b[0m in \u001b[0;36m<module>\u001b[1;34m\u001b[0m\n\u001b[0;32m      9\u001b[0m \u001b[1;32mfrom\u001b[0m \u001b[0msix\u001b[0m\u001b[1;33m.\u001b[0m\u001b[0mmoves\u001b[0m\u001b[1;33m.\u001b[0m\u001b[0murllib\u001b[0m\u001b[1;33m.\u001b[0m\u001b[0mparse\u001b[0m \u001b[1;32mimport\u001b[0m \u001b[0murljoin\u001b[0m\u001b[1;33m,\u001b[0m \u001b[0murlencode\u001b[0m\u001b[1;33m\u001b[0m\u001b[1;33m\u001b[0m\u001b[0m\n\u001b[0;32m     10\u001b[0m \u001b[1;33m\u001b[0m\u001b[0m\n\u001b[1;32m---> 11\u001b[1;33m \u001b[1;32mimport\u001b[0m \u001b[0mlxml\u001b[0m\u001b[1;33m.\u001b[0m\u001b[0mhtml\u001b[0m\u001b[1;33m\u001b[0m\u001b[1;33m\u001b[0m\u001b[0m\n\u001b[0m\u001b[0;32m     12\u001b[0m \u001b[1;32mfrom\u001b[0m \u001b[0mparsel\u001b[0m\u001b[1;33m.\u001b[0m\u001b[0mselector\u001b[0m \u001b[1;32mimport\u001b[0m \u001b[0mcreate_root_node\u001b[0m\u001b[1;33m\u001b[0m\u001b[1;33m\u001b[0m\u001b[0m\n\u001b[0;32m     13\u001b[0m \u001b[1;32mfrom\u001b[0m \u001b[0mw3lib\u001b[0m\u001b[1;33m.\u001b[0m\u001b[0mhtml\u001b[0m \u001b[1;32mimport\u001b[0m \u001b[0mstrip_html5_whitespace\u001b[0m\u001b[1;33m\u001b[0m\u001b[1;33m\u001b[0m\u001b[0m\n",
      "\u001b[1;32m~\\Anaconda3\\lib\\site-packages\\lxml\\html\\__init__.py\u001b[0m in \u001b[0;36m<module>\u001b[1;34m\u001b[0m\n\u001b[0;32m     52\u001b[0m     \u001b[1;32mfrom\u001b[0m \u001b[0mcollections\u001b[0m \u001b[1;32mimport\u001b[0m \u001b[0mMutableMapping\u001b[0m\u001b[1;33m,\u001b[0m \u001b[0mMutableSet\u001b[0m\u001b[1;33m\u001b[0m\u001b[1;33m\u001b[0m\u001b[0m\n\u001b[0;32m     53\u001b[0m \u001b[1;33m\u001b[0m\u001b[0m\n\u001b[1;32m---> 54\u001b[1;33m \u001b[1;32mfrom\u001b[0m \u001b[1;33m.\u001b[0m\u001b[1;33m.\u001b[0m \u001b[1;32mimport\u001b[0m \u001b[0metree\u001b[0m\u001b[1;33m\u001b[0m\u001b[1;33m\u001b[0m\u001b[0m\n\u001b[0m\u001b[0;32m     55\u001b[0m \u001b[1;32mfrom\u001b[0m \u001b[1;33m.\u001b[0m \u001b[1;32mimport\u001b[0m \u001b[0mdefs\u001b[0m\u001b[1;33m\u001b[0m\u001b[1;33m\u001b[0m\u001b[0m\n\u001b[0;32m     56\u001b[0m \u001b[1;32mfrom\u001b[0m \u001b[1;33m.\u001b[0m\u001b[0m_setmixin\u001b[0m \u001b[1;32mimport\u001b[0m \u001b[0mSetMixin\u001b[0m\u001b[1;33m\u001b[0m\u001b[1;33m\u001b[0m\u001b[0m\n",
      "\u001b[1;31mImportError\u001b[0m: DLL load failed: The specified procedure could not be found."
     ]
    }
   ],
   "source": [
    "# Importing in each cell because of the kernel restarts.\n",
    "\n",
    "import scrapy\n",
    "from scrapy.crawler import CrawlerProcess\n",
    "\n",
    "\n",
    "class ESSpider(scrapy.Spider):\n",
    "    # Naming the spider is important if you are running more than one spider of\n",
    "    # this class simultaneously.\n",
    "    name = \"ESS\"\n",
    "    \n",
    "    # URL(s) to start with.\n",
    "    start_urls = [\n",
    "        'http://www.everydaysexism.com',\n",
    "    ]\n",
    "\n",
    "    # What to do with the URL.  Here, we tell it to download all the code and save\n",
    "    # it to the mainpage.html file\n",
    "    def parse(self, response):\n",
    "        with open('mainpage.html', 'wb') as f:\n",
    "            f.write(response.body)\n",
    "\n",
    "\n",
    "# Instantiate our crawler.\n",
    "process = CrawlerProcess()\n",
    "\n",
    "# Start the crawler with our spider.\n",
    "process.crawl(ESSpider)\n",
    "process.start()\n"
   ]
  },
  {
   "cell_type": "markdown",
   "metadata": {
    "colab_type": "text",
    "id": "OGq0trei9ZiV"
   },
   "source": [
    "If that worked, you should now have a file called 'mainpage.html' saved to your machine that contains all the code from www.everydaysexism.com.  Talk to your mentor if you are having problems with this step, and make sure it is working before you move forward.\n",
    "\n",
    "By default Scrapy gives detailed logging, which you should see above in red.\n",
    "\n",
    "Oh, and remember, you'll need to restart your kernel if you want to rerun a Scrapy script. If you get an error, the first thing to try is restarting your kernel."
   ]
  },
  {
   "cell_type": "markdown",
   "metadata": {
    "colab_type": "text",
    "id": "_waA_uAk9ZiW"
   },
   "source": [
    "## Parsing HTML\n",
    "\n",
    "Now that we know the spider can pull the code, we need to _do_ something with it.\n",
    "\n",
    "Scraping the web means learning a bit about web technologies: HTML, XML, and CSS. This code contains the content and display information for every web page. You'll need to get familiar with the structure of your document and the code that identifies the piece(s) of the web page you want. To see the code for an entry on www.everydaysexism.com, open the page in the web browser of your choice and hover over the brownish background rectangle that defines an entry.  Left-click, then select \"Inspect Element\" or some variant- [the terminology will vary depending on your browser](https://victorfont.com/how-to-use-your-browsers-inspect-tool/). In Chrome, the command is \"Inspect\". This will display your browser's developer tools alongside or below the rendered web page. The \"Elements\" tab of your developer tools will show the code for the page. The particular element you left-clicked on will be highlighted. As you move around in the code, different parts of the webpage will be highlighted, letting you know what that piece of code refers to.\n",
    "\n",
    "![Inspecting web page elements](assets/developer_tools.gif)\n",
    "\n",
    "If you've done it right, your click should have highlighted code starting with `<article id=\"post-`.  Each submission on the page is contained within an `<article>` element. Nested within each article is a `<header>` element, a `<section>` element (with the class `\"entry-content\"`), and a `<footer>` element.  Look and click around a bit and see if you can find the information we want to extract from each submission: (1) The author, (2) the date it was posted, (3) the text content, and (4) any tags associated with it. We're lucky that every submission has a standardized format, so we can use the code for this one submission as a template to build our scraper's parsing instructions.\n",
    "\n",
    "So how do we get the information out of the HTML code and into our parser?  Often, people just learning to scrape think \"a ha! I will use regular expressions to pick out what I want!\"  This [is not a good idea](https://blog.codinghorror.com/parsing-html-the-cthulhu-way/) in most cases. HTML is a context-based language – the content described by any given HTML tag depends on where that tag is positioned relative to all other tags, and where that tag is opened and closed. Regex, on the other hand, ignores context. It goes along until it finds the conditions you've described and grabs the material there, ignoring everything else.  Combining HTML and regex creates [fragile code that breaks easily](http://stackoverflow.com/questions/6751105/why-its-not-possible-to-use-regex-to-parse-html-xml-a-formal-explanation-in-la).\n",
    "\n",
    "Fortunately, there are context-aware parsers for HTML and XML that allow you to find what you need within the code without a headache.  Scrapy can work with any parser you provide, and natively incorporates two \"selectors\": [CSS-based and Xpath](https://doc.scrapy.org/en/latest/topics/selectors.html). We'll be using [Xpath](https://www.w3schools.com/xml/xpath_intro.asp) here: It treats nested code like computer file paths, with each level referred to as a 'node' (eg. C:\\\\User\\Desktop\\Stuff for files, \\\\body\\header\\p for code).\n",
    "\n",
    "The Xpath expression to find the title of a submission in our page is: `//article/header/h2/a/@title`.  In English, this means:  \n",
    "\n",
    " * `//article`: _Locate every_ `article` _node in the page._\n",
    " * `/header`: _Find the_ `header` _node nested directly underneath the_ `article` _node._  \n",
    " * `/h2`: _Find the_ `h2` _node nested directly underneath the_ `header` _node_.  \n",
    " * `/a`: _Find the_ `a` _node nested directly underneath the_ `h2` _node._  \n",
    " * `/@title`: _Find the_ `title` _attribute within the_ `a` _node._  \n",
    "\n",
    "The best way to learn Xpath is to try it out.  You can easily experiment using [this XPath tester](http://www.freeformatter.com/xpath-tester.html)."
   ]
  },
  {
   "cell_type": "markdown",
   "metadata": {
    "colab_type": "text",
    "id": "MAn5WR8l9ZiY"
   },
   "source": [
    "## Using JSON to store output\n",
    "\n",
    "As we saw in the previous example, Scrapy writes information to a file.  But raw HTML isn't very useful. Here, we will use the [JSON file format](https://blog.datafiniti.co/4-reasons-you-should-use-json-instead-of-csv-2cac362f1943). JSON stores data in a format that looks a lot like Python dictionaries. This is nice for scraping where you are likely to get non-flat data (also called semi-structured data), where rows can have different numbers of columns. JSON files are also easy to read back into Python.\n",
    "\n",
    "Because we're running Scrapy in a script, we need to call an instance of the CrawlerProcess class to actually run our scrapers. (In the API, this is taken care of automatically.) We can pass arguments into the class call that will give instructions to the scrapers, such as where to store the data (in this case, a JSON file called `firstpage.json`).\n",
    "\n",
    "Remember, scrapy can't restart itself, so you have to restart the kernel before running this code."
   ]
  },
  {
   "cell_type": "code",
   "execution_count": 0,
   "metadata": {
    "colab": {},
    "colab_type": "code",
    "id": "bmBA-7Or9Zia",
    "outputId": "db6309d7-cd32-4374-cd93-a12df8618726",
    "run_control": {
     "frozen": false,
     "read_only": false
    },
    "scrolled": true
   },
   "outputs": [
    {
     "name": "stdout",
     "output_type": "stream",
     "text": [
      "Success!\n"
     ]
    }
   ],
   "source": [
    "# Importing in each cell because of the kernel restarts.\n",
    "import scrapy\n",
    "from scrapy.crawler import CrawlerProcess\n",
    "\n",
    "\n",
    "class ESSpider(scrapy.Spider):\n",
    "    # Naming the spider is important if you are running more than one spider of\n",
    "    # this class simultaneously.\n",
    "    name = \"ESS\"\n",
    "    \n",
    "    # URL(s) to start with.\n",
    "    start_urls = [\n",
    "        'http://www.everydaysexism.com',\n",
    "    ]\n",
    "\n",
    "    # Use XPath to parse the response we get.\n",
    "    def parse(self, response):\n",
    "        \n",
    "        # Iterate over every <article> element on the page.\n",
    "        for article in response.xpath('//article'):\n",
    "            \n",
    "            # Yield a dictionary with the values we want.\n",
    "            yield {\n",
    "                # This is the code to choose what we want to extract\n",
    "                # You can modify this with other Xpath expressions to extract other information from the site\n",
    "                'name': article.xpath('header/h2/a/@title').extract_first(),\n",
    "                'date': article.xpath('header/section/span[@class=\"entry-date\"]/text()').extract_first(),\n",
    "                'text': article.xpath('section[@class=\"entry-content\"]/p/text()').extract(),\n",
    "                'tags': article.xpath('*/span[@class=\"tag-links\"]/a/text()').extract()\n",
    "            }\n",
    "\n",
    "# Tell the script how to run the crawler by passing in settings.\n",
    "process = CrawlerProcess({\n",
    "    'FEED_FORMAT': 'json',         # Store data in JSON format.\n",
    "    'FEED_URI': 'firstpage.json',  # Name our storage file.\n",
    "    'LOG_ENABLED': False           # Turn off logging for now.\n",
    "})\n",
    "\n",
    "# Start the crawler with our spider.\n",
    "process.crawl(ESSpider)\n",
    "process.start()\n",
    "print('Success!')\n"
   ]
  },
  {
   "cell_type": "markdown",
   "metadata": {
    "colab_type": "text",
    "id": "p8J58tGe9Zii"
   },
   "source": [
    "# Checking the output\n",
    "\n",
    "Did it work? We turned off logging in the example above, so the best way to check is to look at our output JSON file: `firstpage.json`.\n",
    "\n",
    "**Note**: if you run the code more than once in a row, Scrapy will try to append the new scraped information to the end of the old JSON file. This will cause the JSON file to bug out because it will have an \"end of file\" notation in the middle of the file, so make sure to delete your JSON file before you re-run this or you'll get a \"trailing file\" error.\n",
    "\n",
    "We can take a look at the raw json file (which is pretty human-readable) in your favorite text editor, or load it into Python as a data frame:"
   ]
  },
  {
   "cell_type": "code",
   "execution_count": 0,
   "metadata": {
    "colab": {},
    "colab_type": "code",
    "id": "U53vFzmZ9Zik",
    "outputId": "d32a5d73-2b66-48e0-e117-6e791aa5f8d1"
   },
   "outputs": [
    {
     "name": "stdout",
     "output_type": "stream",
     "text": [
      "(10, 4)\n",
      "        date      name                       tags  \\\n",
      "0 2017-08-23     Lucie                   [School]   \n",
      "1 2017-08-23     Emily  [Public space, Workplace]   \n",
      "2 2017-08-23  Bollocks                    [Media]   \n",
      "3 2017-08-23  Samantha             [Public space]   \n",
      "4 2017-08-23      Katy                         []   \n",
      "\n",
      "                                                text  \n",
      "0  [We didn’t have enough chairs in the classroom...  \n",
      "1  [When I was 17, I worked in a clothing store t...  \n",
      "2  [“Vaginas need sex or they’ll waste away” , Wi...  \n",
      "3  [I was out at a bar with my boyfriend, my best...  \n",
      "4  [I’m 17 and earlier this summer I was walking ...  \n"
     ]
    }
   ],
   "source": [
    "import pandas as pd\n",
    "\n",
    "firstpage = pd.read_json('firstpage.json', orient='records')\n",
    "print(firstpage.shape)\n",
    "print(firstpage.head())"
   ]
  },
  {
   "cell_type": "markdown",
   "metadata": {
    "colab_type": "text",
    "id": "K5h4o-x_9Zit"
   },
   "source": [
    "Success!  Ten rows (representing ten entries) each with date, name, tags, and text.  \n",
    "\n",
    "\n",
    "## Recursion\n",
    "\n",
    "Now that we have a scraper that can pull the information we want off of a page and store it in a file, we want to run that scraper over _all_ the pages of the website. We do this using recursion – the Scrapy spider will run over a page, gather information, and then detect a link to the next page and _call itself_ on the new page.  Then the new instance of the spider will do the same thing. This will repeat until it arrives at a page with no link to a next page, or when it reaches a stopping condition we define.\n",
    "\n",
    "Since _Everyday Sexism_ has a paginated structure (every page links to the page before it), we can use recursion to get all the entries on the site. If you wanted to scrape a website with a non-linear structure, you'd still use the recursive setup, but with different restrictions on what links the scraper should follow. Scrapy is efficient and will only scrape each page once, even if it travels to them multiple times.\n",
    "\n",
    "You may notice we've added some additional arguments to the ´CrawlerProcess()´ command- these have to do with scraping etiquette and will be introduced in the next assignment.\n",
    "\n",
    "Again, you'll want to restart the kernel."
   ]
  },
  {
   "cell_type": "code",
   "execution_count": 0,
   "metadata": {
    "colab": {},
    "colab_type": "code",
    "id": "UzpplVHC9Ziv",
    "scrolled": false
   },
   "outputs": [],
   "source": [
    "# Importing in each cell because of the kernel restarts.\n",
    "import scrapy\n",
    "import re\n",
    "from scrapy.crawler import CrawlerProcess\n",
    "\n",
    "class ESSpider(scrapy.Spider):\n",
    "    # Naming the spider is important if you are running more than one spider of\n",
    "    # this class simultaneously.\n",
    "    name = \"ESS\"\n",
    "    \n",
    "    # URL(s) to start with.\n",
    "    start_urls = [\n",
    "        'http://www.everydaysexism.com',\n",
    "    ]\n",
    "\n",
    "    # Use XPath to parse the response we get.\n",
    "    def parse(self, response):\n",
    "        \n",
    "        # Iterate over every <article> element on the page.\n",
    "        for article in response.xpath('//article'):\n",
    "            \n",
    "            # Yield a dictionary with the values we want.\n",
    "            yield {\n",
    "                'name': article.xpath('header/h2/a/@title').extract_first(),\n",
    "                'date': article.xpath('header/section/span[@class=\"entry-date\"]/text()').extract_first(),\n",
    "                'text': article.xpath('section[@class=\"entry-content\"]/p/text()').extract(),\n",
    "                'tags': article.xpath('*/span[@class=\"tag-links\"]/a/text()').extract()\n",
    "            }\n",
    "        # Get the URL of the previous page.\n",
    "        next_page = response.xpath('//div[@class=\"nav-previous\"]/a/@href').extract_first()\n",
    "        \n",
    "        # There are a LOT of pages here.  For our example, we'll just scrape the first 9.\n",
    "        # This finds the page number. The next segment of code prevents us from going beyond page 9.\n",
    "        pagenum = int(re.findall(r'\\d+',next_page)[0])\n",
    "        \n",
    "        # Recursively call the spider to run on the next page, if it exists.\n",
    "        if next_page is not None and pagenum < 10:\n",
    "            next_page = response.urljoin(next_page)\n",
    "            # Request the next page and recursively parse it the same way we did above\n",
    "            yield scrapy.Request(next_page, callback=self.parse)\n",
    "\n",
    "# Tell the script how to run the crawler by passing in settings.\n",
    "# The new settings have to do with scraping etiquette.          \n",
    "process = CrawlerProcess({\n",
    "    'FEED_FORMAT': 'json',         # Store data in JSON format.\n",
    "    'FEED_URI': 'data.json',       # Name our storage file.\n",
    "    'LOG_ENABLED': False,          # Turn off logging for now.\n",
    "    'ROBOTSTXT_OBEY': True,\n",
    "    'USER_AGENT': 'ThinkfulDataScienceBootcampCrawler (thinkful.com)',\n",
    "    'AUTOTHROTTLE_ENABLED': True,\n",
    "    'HTTPCACHE_ENABLED': True\n",
    "})\n",
    "\n",
    "# Start the crawler with our spider.\n",
    "process.crawl(ESSpider)\n",
    "process.start()\n",
    "print('Success!')"
   ]
  },
  {
   "cell_type": "code",
   "execution_count": 0,
   "metadata": {
    "colab": {},
    "colab_type": "code",
    "id": "tmSQN2dK9Zi0",
    "run_control": {
     "frozen": false,
     "read_only": false
    }
   },
   "outputs": [],
   "source": [
    "import pandas as pd\n",
    "\n",
    "# Checking whether we got data from all 9 pages\n",
    "ESSdf=pd.read_json('data.json', orient='records')\n",
    "print(ESSdf.shape)\n",
    "print(ESSdf.head())"
   ]
  },
  {
   "cell_type": "markdown",
   "metadata": {
    "colab_type": "text",
    "collapsed": true,
    "id": "083hC-TS9Zi6",
    "run_control": {
     "frozen": false,
     "read_only": false
    }
   },
   "source": [
    "# Conclusion\n",
    "\n",
    "Nine pages at 10 entries a row gives us 90 rows - looks like we were successful in our scraping!  This is just a start. Scrapy is very flexible and will let you run multiple spiders with all sorts of different abilities.  In the next assignment, we'll talk about some of the options you can use to fine-tune scrapy and how to use your newfound scraping power in a responsible way."
   ]
  }
 ],
 "metadata": {
  "colab": {
   "name": "5.2.2 Basic scraping with scrapy (1).ipynb",
   "provenance": [],
   "version": "0.3.2"
  },
  "kernelspec": {
   "display_name": "Python 3",
   "language": "python",
   "name": "python3"
  },
  "language_info": {
   "codemirror_mode": {
    "name": "ipython",
    "version": 3
   },
   "file_extension": ".py",
   "mimetype": "text/x-python",
   "name": "python",
   "nbconvert_exporter": "python",
   "pygments_lexer": "ipython3",
   "version": "3.7.1"
  }
 },
 "nbformat": 4,
 "nbformat_minor": 1
}
